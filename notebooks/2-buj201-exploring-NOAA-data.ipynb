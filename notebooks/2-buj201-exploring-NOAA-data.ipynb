{
 "cells": [
  {
   "cell_type": "markdown",
   "metadata": {
    "deletable": true,
    "editable": true
   },
   "source": [
    "# Reading and cleaning NOAA data\n",
    "\n",
    "This notebook includes initial exploration of the NOAA weather data. Specifically, it was used to:\n",
    "1. Develop code for getting NOAA data through API\n",
    "2. Develop code for cleaning NOAA data prior to merge with tripdata."
   ]
  },
  {
   "cell_type": "code",
   "execution_count": 115,
   "metadata": {
    "collapsed": true,
    "deletable": true,
    "editable": true
   },
   "outputs": [],
   "source": [
    "import requests\n",
    "import pandas as pd\n",
    "from pandas.io.json import json_normalize\n",
    "import numpy as np"
   ]
  },
  {
   "cell_type": "code",
   "execution_count": 110,
   "metadata": {
    "collapsed": false,
    "deletable": true,
    "editable": true
   },
   "outputs": [],
   "source": [
    "def get_all_year_data(year):\n",
    "    offset=0\n",
    "    found_all = False\n",
    "    data = []\n",
    "    while not found_all:\n",
    "        url = \"https://www.ncdc.noaa.gov/cdo-web/api/v2/data?\"\n",
    "        url = url + 'datasetid=GHCND&stationid=GHCND:USW00094728&startdate={0}-01-01&enddate={0}-12-31'.format(year)\n",
    "        url = url + '&limit=1000&offset={}'.format(offset*1000+1)\n",
    "\n",
    "        # replace 'myToken' with the actual token, below\n",
    "        headers = {'token': 'TzFmshIEmgvthbzMdJnlOBcxykLlHPDZ'}\n",
    "        response = requests.get(url, headers = headers)\n",
    "\n",
    "        print 'Year: {}, Offset:{}, Response: {}'.format(year, offset, response)\n",
    "        response = response.json()\n",
    "\n",
    "        if len(response) == 0:\n",
    "            found_all = True\n",
    "        else:\n",
    "            data.extend(response['results'])\n",
    "            offset += 1\n",
    "            \n",
    "    return data"
   ]
  },
  {
   "cell_type": "code",
   "execution_count": 111,
   "metadata": {
    "collapsed": false,
    "deletable": true,
    "editable": true
   },
   "outputs": [],
   "source": [
    "def get_year_dataframe(year):\n",
    "    json_data = get_all_year_data(year)\n",
    "    df = json_normalize(json_data)\n",
    "    df.drop(['attributes','station'], axis=1, inplace=True)\n",
    "    df['date'] = pd.to_datetime(df['date'], format='%Y-%m-%dT%H:%M:%S')\n",
    "    df = df.pivot(index='date',columns='datatype',values='value')\n",
    "    if year % 4 != 0:\n",
    "        assert df.shape[0] == 365\n",
    "    else:\n",
    "        assert df.shape[0] == 366\n",
    "    return df"
   ]
  },
  {
   "cell_type": "code",
   "execution_count": 112,
   "metadata": {
    "collapsed": true,
    "deletable": true,
    "editable": true
   },
   "outputs": [],
   "source": [
    "def get_all_years_data(year_range):\n",
    "    first_year = True\n",
    "    for year in year_range:\n",
    "        df = get_year_dataframe(year)\n",
    "        if first_year:\n",
    "            all_years = df\n",
    "            first_year = False\n",
    "        else:\n",
    "            all_years = all_years.append(df)\n",
    "            \n",
    "    return all_years"
   ]
  },
  {
   "cell_type": "code",
   "execution_count": 113,
   "metadata": {
    "collapsed": false,
    "deletable": true,
    "editable": true
   },
   "outputs": [
    {
     "name": "stdout",
     "output_type": "stream",
     "text": [
      "Year: 2014, Offset:0, Response: <Response [200]>\n",
      "Year: 2014, Offset:1, Response: <Response [200]>\n",
      "Year: 2014, Offset:2, Response: <Response [200]>\n",
      "Year: 2014, Offset:3, Response: <Response [200]>\n",
      "Year: 2014, Offset:4, Response: <Response [200]>\n",
      "Year: 2015, Offset:0, Response: <Response [200]>\n",
      "Year: 2015, Offset:1, Response: <Response [200]>\n",
      "Year: 2015, Offset:2, Response: <Response [200]>\n",
      "Year: 2015, Offset:3, Response: <Response [200]>\n",
      "Year: 2015, Offset:4, Response: <Response [200]>\n",
      "Year: 2016, Offset:0, Response: <Response [200]>\n",
      "Year: 2016, Offset:1, Response: <Response [200]>\n",
      "Year: 2016, Offset:2, Response: <Response [200]>\n",
      "Year: 2016, Offset:3, Response: <Response [200]>\n",
      "Year: 2016, Offset:4, Response: <Response [200]>\n"
     ]
    }
   ],
   "source": [
    "all_years = get_all_years_data(range(2014,2017))"
   ]
  },
  {
   "cell_type": "code",
   "execution_count": 116,
   "metadata": {
    "collapsed": false,
    "deletable": true,
    "editable": true
   },
   "outputs": [
    {
     "data": {
      "text/html": [
       "<div>\n",
       "<table border=\"1\" class=\"dataframe\">\n",
       "  <thead>\n",
       "    <tr style=\"text-align: right;\">\n",
       "      <th>datatype</th>\n",
       "      <th>AWND</th>\n",
       "      <th>PRCP</th>\n",
       "      <th>SNOW</th>\n",
       "      <th>SNWD</th>\n",
       "      <th>TMAX</th>\n",
       "      <th>TMIN</th>\n",
       "      <th>WDF2</th>\n",
       "      <th>WDF5</th>\n",
       "      <th>WSF2</th>\n",
       "      <th>WSF5</th>\n",
       "      <th>WT01</th>\n",
       "      <th>WT02</th>\n",
       "      <th>WT04</th>\n",
       "      <th>WT06</th>\n",
       "      <th>WT08</th>\n",
       "    </tr>\n",
       "    <tr>\n",
       "      <th>date</th>\n",
       "      <th></th>\n",
       "      <th></th>\n",
       "      <th></th>\n",
       "      <th></th>\n",
       "      <th></th>\n",
       "      <th></th>\n",
       "      <th></th>\n",
       "      <th></th>\n",
       "      <th></th>\n",
       "      <th></th>\n",
       "      <th></th>\n",
       "      <th></th>\n",
       "      <th></th>\n",
       "      <th></th>\n",
       "      <th></th>\n",
       "    </tr>\n",
       "  </thead>\n",
       "  <tbody>\n",
       "    <tr>\n",
       "      <th>2014-01-01</th>\n",
       "      <td>25.0</td>\n",
       "      <td>0.0</td>\n",
       "      <td>0.0</td>\n",
       "      <td>0.0</td>\n",
       "      <td>6.0</td>\n",
       "      <td>-43.0</td>\n",
       "      <td>280.0</td>\n",
       "      <td>300.0</td>\n",
       "      <td>63.0</td>\n",
       "      <td>103.0</td>\n",
       "      <td>NaN</td>\n",
       "      <td>NaN</td>\n",
       "      <td>NaN</td>\n",
       "      <td>NaN</td>\n",
       "      <td>NaN</td>\n",
       "    </tr>\n",
       "    <tr>\n",
       "      <th>2014-01-02</th>\n",
       "      <td>55.0</td>\n",
       "      <td>84.0</td>\n",
       "      <td>79.0</td>\n",
       "      <td>0.0</td>\n",
       "      <td>6.0</td>\n",
       "      <td>-77.0</td>\n",
       "      <td>50.0</td>\n",
       "      <td>50.0</td>\n",
       "      <td>94.0</td>\n",
       "      <td>125.0</td>\n",
       "      <td>NaN</td>\n",
       "      <td>NaN</td>\n",
       "      <td>NaN</td>\n",
       "      <td>NaN</td>\n",
       "      <td>NaN</td>\n",
       "    </tr>\n",
       "    <tr>\n",
       "      <th>2014-01-03</th>\n",
       "      <td>47.0</td>\n",
       "      <td>74.0</td>\n",
       "      <td>84.0</td>\n",
       "      <td>150.0</td>\n",
       "      <td>-77.0</td>\n",
       "      <td>-127.0</td>\n",
       "      <td>360.0</td>\n",
       "      <td>310.0</td>\n",
       "      <td>94.0</td>\n",
       "      <td>130.0</td>\n",
       "      <td>1.0</td>\n",
       "      <td>NaN</td>\n",
       "      <td>NaN</td>\n",
       "      <td>NaN</td>\n",
       "      <td>NaN</td>\n",
       "    </tr>\n",
       "    <tr>\n",
       "      <th>2014-01-04</th>\n",
       "      <td>22.0</td>\n",
       "      <td>0.0</td>\n",
       "      <td>0.0</td>\n",
       "      <td>150.0</td>\n",
       "      <td>-16.0</td>\n",
       "      <td>-132.0</td>\n",
       "      <td>260.0</td>\n",
       "      <td>240.0</td>\n",
       "      <td>40.0</td>\n",
       "      <td>89.0</td>\n",
       "      <td>NaN</td>\n",
       "      <td>NaN</td>\n",
       "      <td>NaN</td>\n",
       "      <td>NaN</td>\n",
       "      <td>NaN</td>\n",
       "    </tr>\n",
       "    <tr>\n",
       "      <th>2014-01-05</th>\n",
       "      <td>17.0</td>\n",
       "      <td>36.0</td>\n",
       "      <td>0.0</td>\n",
       "      <td>100.0</td>\n",
       "      <td>44.0</td>\n",
       "      <td>-27.0</td>\n",
       "      <td>70.0</td>\n",
       "      <td>240.0</td>\n",
       "      <td>31.0</td>\n",
       "      <td>76.0</td>\n",
       "      <td>NaN</td>\n",
       "      <td>NaN</td>\n",
       "      <td>NaN</td>\n",
       "      <td>NaN</td>\n",
       "      <td>NaN</td>\n",
       "    </tr>\n",
       "  </tbody>\n",
       "</table>\n",
       "</div>"
      ],
      "text/plain": [
       "datatype    AWND  PRCP  SNOW   SNWD  TMAX   TMIN   WDF2   WDF5  WSF2   WSF5  \\\n",
       "date                                                                          \n",
       "2014-01-01  25.0   0.0   0.0    0.0   6.0  -43.0  280.0  300.0  63.0  103.0   \n",
       "2014-01-02  55.0  84.0  79.0    0.0   6.0  -77.0   50.0   50.0  94.0  125.0   \n",
       "2014-01-03  47.0  74.0  84.0  150.0 -77.0 -127.0  360.0  310.0  94.0  130.0   \n",
       "2014-01-04  22.0   0.0   0.0  150.0 -16.0 -132.0  260.0  240.0  40.0   89.0   \n",
       "2014-01-05  17.0  36.0   0.0  100.0  44.0  -27.0   70.0  240.0  31.0   76.0   \n",
       "\n",
       "datatype    WT01  WT02  WT04  WT06  WT08  \n",
       "date                                      \n",
       "2014-01-01   NaN   NaN   NaN   NaN   NaN  \n",
       "2014-01-02   NaN   NaN   NaN   NaN   NaN  \n",
       "2014-01-03   1.0   NaN   NaN   NaN   NaN  \n",
       "2014-01-04   NaN   NaN   NaN   NaN   NaN  \n",
       "2014-01-05   NaN   NaN   NaN   NaN   NaN  "
      ]
     },
     "execution_count": 116,
     "metadata": {},
     "output_type": "execute_result"
    }
   ],
   "source": [
    "all_years.head()"
   ]
  },
  {
   "cell_type": "code",
   "execution_count": 117,
   "metadata": {
    "collapsed": false,
    "deletable": true,
    "editable": true,
    "scrolled": true
   },
   "outputs": [
    {
     "name": "stdout",
     "output_type": "stream",
     "text": [
      "<class 'pandas.core.frame.DataFrame'>\n",
      "DatetimeIndex: 1096 entries, 2014-01-01 to 2016-12-31\n",
      "Data columns (total 15 columns):\n",
      "AWND    1083 non-null float64\n",
      "PRCP    1096 non-null float64\n",
      "SNOW    1096 non-null float64\n",
      "SNWD    1096 non-null float64\n",
      "TMAX    1096 non-null float64\n",
      "TMIN    1096 non-null float64\n",
      "WDF2    1086 non-null float64\n",
      "WDF5    1075 non-null float64\n",
      "WSF2    1086 non-null float64\n",
      "WSF5    1075 non-null float64\n",
      "WT01    312 non-null float64\n",
      "WT02    14 non-null float64\n",
      "WT04    4 non-null float64\n",
      "WT06    6 non-null float64\n",
      "WT08    251 non-null float64\n",
      "dtypes: float64(15)\n",
      "memory usage: 137.0 KB\n"
     ]
    }
   ],
   "source": [
    "all_years.info()"
   ]
  },
  {
   "cell_type": "markdown",
   "metadata": {
    "deletable": true,
    "editable": true
   },
   "source": [
    "Based on the number of missing values (and rarity of weather events WT02, WT04, and WT06 which are heavy fog, ice pellets/sleet, and glaze or rime), we will only use the following features:\n",
    "    - PRCP: Precipitation\n",
    "    - SNOW: Snowfall\n",
    "    - SNWD: Snow depth\n",
    "    - TMAX: Max temperature\n",
    "    - TMIN: Min temperature\n",
    "    - AWND: Average daily wind speed\n",
    "    - WSF2: Fastest 2-minute wind speed\n",
    "    - WSF5: Fastest 4-second wind speed\n",
    "    - WT01: Fog, ice fog, or freezing fog (may include heavy fog)\n",
    "    - WT08: Smoke or haze"
   ]
  },
  {
   "cell_type": "code",
   "execution_count": 119,
   "metadata": {
    "collapsed": false,
    "deletable": true,
    "editable": true
   },
   "outputs": [],
   "source": [
    "all_years = all_years[['PRCP','SNOW','SNWD','TMAX','TMIN','AWND','WSF2','WSF5', 'WT01', 'WT08']]"
   ]
  },
  {
   "cell_type": "code",
   "execution_count": 120,
   "metadata": {
    "collapsed": false,
    "deletable": true,
    "editable": true
   },
   "outputs": [
    {
     "data": {
      "text/html": [
       "<div>\n",
       "<table border=\"1\" class=\"dataframe\">\n",
       "  <thead>\n",
       "    <tr style=\"text-align: right;\">\n",
       "      <th>datatype</th>\n",
       "      <th>PRCP</th>\n",
       "      <th>SNOW</th>\n",
       "      <th>SNWD</th>\n",
       "      <th>TMAX</th>\n",
       "      <th>TMIN</th>\n",
       "      <th>AWND</th>\n",
       "      <th>WSF2</th>\n",
       "      <th>WSF5</th>\n",
       "      <th>WT01</th>\n",
       "      <th>WT08</th>\n",
       "    </tr>\n",
       "    <tr>\n",
       "      <th>date</th>\n",
       "      <th></th>\n",
       "      <th></th>\n",
       "      <th></th>\n",
       "      <th></th>\n",
       "      <th></th>\n",
       "      <th></th>\n",
       "      <th></th>\n",
       "      <th></th>\n",
       "      <th></th>\n",
       "      <th></th>\n",
       "    </tr>\n",
       "  </thead>\n",
       "  <tbody>\n",
       "    <tr>\n",
       "      <th>2014-01-01</th>\n",
       "      <td>0.0</td>\n",
       "      <td>0.0</td>\n",
       "      <td>0.0</td>\n",
       "      <td>6.0</td>\n",
       "      <td>-43.0</td>\n",
       "      <td>25.0</td>\n",
       "      <td>63.0</td>\n",
       "      <td>103.0</td>\n",
       "      <td>NaN</td>\n",
       "      <td>NaN</td>\n",
       "    </tr>\n",
       "    <tr>\n",
       "      <th>2014-01-02</th>\n",
       "      <td>84.0</td>\n",
       "      <td>79.0</td>\n",
       "      <td>0.0</td>\n",
       "      <td>6.0</td>\n",
       "      <td>-77.0</td>\n",
       "      <td>55.0</td>\n",
       "      <td>94.0</td>\n",
       "      <td>125.0</td>\n",
       "      <td>NaN</td>\n",
       "      <td>NaN</td>\n",
       "    </tr>\n",
       "    <tr>\n",
       "      <th>2014-01-03</th>\n",
       "      <td>74.0</td>\n",
       "      <td>84.0</td>\n",
       "      <td>150.0</td>\n",
       "      <td>-77.0</td>\n",
       "      <td>-127.0</td>\n",
       "      <td>47.0</td>\n",
       "      <td>94.0</td>\n",
       "      <td>130.0</td>\n",
       "      <td>1.0</td>\n",
       "      <td>NaN</td>\n",
       "    </tr>\n",
       "    <tr>\n",
       "      <th>2014-01-04</th>\n",
       "      <td>0.0</td>\n",
       "      <td>0.0</td>\n",
       "      <td>150.0</td>\n",
       "      <td>-16.0</td>\n",
       "      <td>-132.0</td>\n",
       "      <td>22.0</td>\n",
       "      <td>40.0</td>\n",
       "      <td>89.0</td>\n",
       "      <td>NaN</td>\n",
       "      <td>NaN</td>\n",
       "    </tr>\n",
       "    <tr>\n",
       "      <th>2014-01-05</th>\n",
       "      <td>36.0</td>\n",
       "      <td>0.0</td>\n",
       "      <td>100.0</td>\n",
       "      <td>44.0</td>\n",
       "      <td>-27.0</td>\n",
       "      <td>17.0</td>\n",
       "      <td>31.0</td>\n",
       "      <td>76.0</td>\n",
       "      <td>NaN</td>\n",
       "      <td>NaN</td>\n",
       "    </tr>\n",
       "  </tbody>\n",
       "</table>\n",
       "</div>"
      ],
      "text/plain": [
       "datatype    PRCP  SNOW   SNWD  TMAX   TMIN  AWND  WSF2   WSF5  WT01  WT08\n",
       "date                                                                     \n",
       "2014-01-01   0.0   0.0    0.0   6.0  -43.0  25.0  63.0  103.0   NaN   NaN\n",
       "2014-01-02  84.0  79.0    0.0   6.0  -77.0  55.0  94.0  125.0   NaN   NaN\n",
       "2014-01-03  74.0  84.0  150.0 -77.0 -127.0  47.0  94.0  130.0   1.0   NaN\n",
       "2014-01-04   0.0   0.0  150.0 -16.0 -132.0  22.0  40.0   89.0   NaN   NaN\n",
       "2014-01-05  36.0   0.0  100.0  44.0  -27.0  17.0  31.0   76.0   NaN   NaN"
      ]
     },
     "execution_count": 120,
     "metadata": {},
     "output_type": "execute_result"
    }
   ],
   "source": [
    "all_years.head()"
   ]
  },
  {
   "cell_type": "code",
   "execution_count": 121,
   "metadata": {
    "collapsed": false,
    "deletable": true,
    "editable": true
   },
   "outputs": [
    {
     "name": "stdout",
     "output_type": "stream",
     "text": [
      "<class 'pandas.core.frame.DataFrame'>\n",
      "DatetimeIndex: 365 entries, 2014-01-01 to 2014-12-31\n",
      "Data columns (total 12 columns):\n",
      "AWND    364 non-null float64\n",
      "PRCP    365 non-null float64\n",
      "SNOW    365 non-null float64\n",
      "SNWD    365 non-null float64\n",
      "TMAX    365 non-null float64\n",
      "TMIN    365 non-null float64\n",
      "WDF2    365 non-null float64\n",
      "WDF5    360 non-null float64\n",
      "WSF2    365 non-null float64\n",
      "WSF5    360 non-null float64\n",
      "WT01    71 non-null float64\n",
      "WT08    44 non-null float64\n",
      "dtypes: float64(12)\n",
      "memory usage: 37.1 KB\n"
     ]
    }
   ],
   "source": [
    "df.info()"
   ]
  },
  {
   "cell_type": "markdown",
   "metadata": {
    "deletable": true,
    "editable": true
   },
   "source": [
    "Next,we fill the null weather type values with 0's."
   ]
  },
  {
   "cell_type": "code",
   "execution_count": 122,
   "metadata": {
    "collapsed": true,
    "deletable": true,
    "editable": true
   },
   "outputs": [],
   "source": [
    "all_years = all_years.fillna({'WT01':0, 'WT08':0})"
   ]
  },
  {
   "cell_type": "code",
   "execution_count": 123,
   "metadata": {
    "collapsed": false,
    "deletable": true,
    "editable": true
   },
   "outputs": [
    {
     "name": "stdout",
     "output_type": "stream",
     "text": [
      "<class 'pandas.core.frame.DataFrame'>\n",
      "DatetimeIndex: 1096 entries, 2014-01-01 to 2016-12-31\n",
      "Data columns (total 10 columns):\n",
      "PRCP    1096 non-null float64\n",
      "SNOW    1096 non-null float64\n",
      "SNWD    1096 non-null float64\n",
      "TMAX    1096 non-null float64\n",
      "TMIN    1096 non-null float64\n",
      "AWND    1083 non-null float64\n",
      "WSF2    1086 non-null float64\n",
      "WSF5    1075 non-null float64\n",
      "WT01    1096 non-null float64\n",
      "WT08    1096 non-null float64\n",
      "dtypes: float64(10)\n",
      "memory usage: 94.2 KB\n"
     ]
    }
   ],
   "source": [
    "all_years.info()"
   ]
  },
  {
   "cell_type": "markdown",
   "metadata": {
    "deletable": true,
    "editable": true
   },
   "source": [
    "To finish cleaning the weather data, all we need to do is fill missing wind speed values. We'll do so by averaging the forward and backfill values (under the intuition that wind speed is essentially continuous, so the mean value is a reasonable estimate)."
   ]
  },
  {
   "cell_type": "code",
   "execution_count": 124,
   "metadata": {
    "collapsed": true,
    "deletable": true,
    "editable": true
   },
   "outputs": [],
   "source": [
    "def get_forward_back_avg(series):\n",
    "    forward = series.ffill()\n",
    "    back = series.bfill()\n",
    "    if np.sum(forward - back) == 0:\n",
    "        print 'No change for {}'.format(series.name)\n",
    "    average = (forward + back)/2.0\n",
    "    return average"
   ]
  },
  {
   "cell_type": "code",
   "execution_count": 125,
   "metadata": {
    "collapsed": false,
    "deletable": true,
    "editable": true,
    "scrolled": true
   },
   "outputs": [
    {
     "name": "stdout",
     "output_type": "stream",
     "text": [
      "No change for PRCP\n",
      "No change for SNOW\n",
      "No change for SNWD\n",
      "No change for TMAX\n",
      "No change for TMIN\n",
      "No change for WDF2\n",
      "No change for WSF2\n",
      "No change for WT01\n",
      "No change for WT08\n"
     ]
    }
   ],
   "source": [
    "for col in df.columns:\n",
    "    df[col] = get_forward_back_avg(df[col])"
   ]
  }
 ],
 "metadata": {
  "kernelspec": {
   "display_name": "Python 2",
   "language": "python",
   "name": "python2"
  },
  "language_info": {
   "codemirror_mode": {
    "name": "ipython",
    "version": 2
   },
   "file_extension": ".py",
   "mimetype": "text/x-python",
   "name": "python",
   "nbconvert_exporter": "python",
   "pygments_lexer": "ipython2",
   "version": "2.7.10"
  }
 },
 "nbformat": 4,
 "nbformat_minor": 0
}
